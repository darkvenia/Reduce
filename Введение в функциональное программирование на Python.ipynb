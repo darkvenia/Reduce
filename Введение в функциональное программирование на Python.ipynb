{
 "cells": [
  {
   "cell_type": "code",
   "execution_count": 1,
   "metadata": {},
   "outputs": [
    {
     "name": "stdout",
     "output_type": "stream",
     "text": [
      "[5, 4, 5]\n"
     ]
    }
   ],
   "source": [
    "# Вместо проходов по списку используйте map и reduce \n",
    "# Map\n",
    "# Принимает функцию и набор данных. Создаёт новую коллекцию, \n",
    "# выполняет функцию на каждой позиции данных и добавляет возвращаемое значение в новую коллекцию. \n",
    "# Возвращает новую коллекцию.\n",
    "\n",
    "name_lenghts = map (len,['Masha', 'Petr', 'Vasya']) #Выведет количество букв в аргументах\n",
    "print name_lenghts\n"
   ]
  },
  {
   "cell_type": "code",
   "execution_count": 2,
   "metadata": {},
   "outputs": [
    {
     "name": "stdout",
     "output_type": "stream",
     "text": [
      "[0, 1, 4, 9]\n"
     ]
    }
   ],
   "source": [
    "squares = map(lambda x:x*x,[0,1,2,3]) #Возводит аргументы в квадрат\n",
    "print squares"
   ]
  },
  {
   "cell_type": "code",
   "execution_count": 4,
   "metadata": {},
   "outputs": [
    {
     "name": "stdout",
     "output_type": "stream",
     "text": [
      "['\\xd0\\xa8\\xd0\\xbf\\xd1\\x83\\xd0\\xbd\\xd1\\x82\\xd0\\xb8\\xd0\\xba', 'Petr', 'Vasya']\n",
      "['\\xd0\\xa8\\xd0\\xbf\\xd1\\x83\\xd0\\xbd\\xd1\\x82\\xd0\\xb8\\xd0\\xba', '\\xd0\\xa8\\xd0\\xbf\\xd1\\x83\\xd0\\xbd\\xd1\\x82\\xd0\\xb8\\xd0\\xba', 'Vasya']\n",
      "['\\xd0\\xa8\\xd0\\xbf\\xd1\\x83\\xd0\\xbd\\xd1\\x82\\xd0\\xb8\\xd0\\xba', '\\xd0\\xa8\\xd0\\xbf\\xd1\\x83\\xd0\\xbd\\xd1\\x82\\xd0\\xb8\\xd0\\xba', '\\xd0\\xa4\\xd1\\x83\\xd0\\xbd\\xd1\\x82\\xd0\\xb8\\xd0\\xba']\n"
     ]
    }
   ],
   "source": [
    "# Пример нефункционального кода\n",
    "\n",
    "import random\n",
    "names = ['Masha', 'Petr', 'Vasya']\n",
    "code_names = ['Шпунтик', 'Винтик', 'Фунтик']\n",
    "for i in range (len(names)):\n",
    "    names[i] = random.choice(code_names)\n",
    "    print names"
   ]
  },
  {
   "cell_type": "code",
   "execution_count": 6,
   "metadata": {},
   "outputs": [],
   "source": [
    "import random"
   ]
  },
  {
   "cell_type": "code",
   "execution_count": 7,
   "metadata": {},
   "outputs": [
    {
     "name": "stdout",
     "output_type": "stream",
     "text": [
      "['\\xd0\\xa8\\xd0\\xbf\\xd1\\x83\\xd0\\xbd\\xd1\\x82\\xd0\\xb8\\xd0\\xba', '\\xd0\\x92\\xd0\\xb8\\xd0\\xbd\\xd1\\x82\\xd0\\xb8\\xd0\\xba', '\\xd0\\xa8\\xd0\\xbf\\xd1\\x83\\xd0\\xbd\\xd1\\x82\\xd0\\xb8\\xd0\\xba']\n"
     ]
    }
   ],
   "source": [
    "names = ['Маша', 'Петя', 'Вася']\n",
    "code_names = ['Шпунтик', 'Винтик', 'Фунтик']\n",
    "\n",
    "for i in range(len(names)):\n",
    "    names[i] = random.choice(code_names)\n",
    "\n",
    "print names"
   ]
  },
  {
   "cell_type": "code",
   "execution_count": 10,
   "metadata": {},
   "outputs": [
    {
     "name": "stdout",
     "output_type": "stream",
     "text": [
      "['\\xd0\\xa4\\xd1\\x83\\xd0\\xbd\\xd1\\x82\\xd0\\xb8\\xd0\\xba', '\\xd0\\xa8\\xd0\\xbf\\xd1\\x83\\xd0\\xbd\\xd1\\x82\\xd0\\xb8\\xd0\\xba', '\\xd0\\xa8\\xd0\\xbf\\xd1\\x83\\xd0\\xbd\\xd1\\x82\\xd0\\xb8\\xd0\\xba']\n"
     ]
    }
   ],
   "source": [
    "import random\n",
    "\n",
    "names = ['Маша', 'Петя', 'Вася']\n",
    "\n",
    "secret_names = map(lambda x: random.choice(['Шпунтик', 'Винтик', 'Фунтик']), names)\n",
    "print secret_names"
   ]
  },
  {
   "cell_type": "code",
   "execution_count": null,
   "metadata": {
    "collapsed": true
   },
   "outputs": [],
   "source": []
  }
 ],
 "metadata": {
  "kernelspec": {
   "display_name": "Python 2",
   "language": "python",
   "name": "python2"
  },
  "language_info": {
   "codemirror_mode": {
    "name": "ipython",
    "version": 2
   },
   "file_extension": ".py",
   "mimetype": "text/x-python",
   "name": "python",
   "nbconvert_exporter": "python",
   "pygments_lexer": "ipython2",
   "version": "2.7.12"
  }
 },
 "nbformat": 4,
 "nbformat_minor": 2
}
